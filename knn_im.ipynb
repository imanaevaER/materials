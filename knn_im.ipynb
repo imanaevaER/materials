{
 "cells": [
  {
   "cell_type": "code",
   "execution_count": 3,
   "metadata": {
    "collapsed": true
   },
   "outputs": [],
   "source": [
    "import pandas as pd\n",
    "import numpy as np"
   ]
  },
  {
   "cell_type": "markdown",
   "metadata": {},
   "source": [
    "на примере датасета\n",
    "поделили выборку на тренировочную и тестовую, отделили метки классов"
   ]
  },
  {
   "cell_type": "code",
   "execution_count": 23,
   "metadata": {
    "collapsed": true
   },
   "outputs": [],
   "source": [
    "from sklearn.datasets import load_iris\n",
    "from sklearn.model_selection import train_test_split\n",
    "df = load_iris()\n",
    "X_train, X_test, y_train, y_test = train_test_split(df.data, df.target, test_size=0.3)"
   ]
  },
  {
   "cell_type": "code",
   "execution_count": 11,
   "metadata": {
    "collapsed": true
   },
   "outputs": [],
   "source": [
    "X_train = pd.DataFrame(X_train)\n",
    "X_test = pd.DataFrame(X_test)"
   ]
  },
  {
   "cell_type": "code",
   "execution_count": 12,
   "metadata": {},
   "outputs": [
    {
     "name": "stdout",
     "output_type": "stream",
     "text": [
      "(105, 4)\n",
      "(45, 4)\n"
     ]
    }
   ],
   "source": [
    "print(X_train.shape)\n",
    "print(X_test.shape)"
   ]
  },
  {
   "cell_type": "code",
   "execution_count": 115,
   "metadata": {
    "collapsed": true
   },
   "outputs": [],
   "source": [
    "def knn_er(X_train, X_test, y_train, y_test, k):\n",
    "    \n",
    "    # считаем расстояние каждый элемент тестовой выборки с каждым наблюдением на тренировочной выборке\n",
    "    import math as math\n",
    "    each_to_each_dist = []\n",
    "    for i in range(len(X_test)):\n",
    "        for j in range(len(X_train)):\n",
    "            each_to_each_dist.append([i, j, math.sqrt(sum((X_train[j] - X_test[i])**2))])\n",
    "    \n",
    "    # переход к DataFrame\n",
    "    df = pd.DataFrame(each_to_each_dist)\n",
    "    df = df.rename(columns={0: 'i_test', 1: 'j_train', 2:'dist'})\n",
    "    \n",
    "    # ранжируем расстояние в разрезе каждого тестового наблюдения\n",
    "    df['rank'] = df.groupby('i_test')['dist'].rank(ascending=True)\n",
    "    df = df.sort_values(by='rank', ascending = True)\n",
    "    \n",
    "    # формируем df с k ближайшими наблюдениями из тренировочного сета\n",
    "    k_near_Neighbors = df.groupby('i_test').head(k)\n",
    "    \n",
    "    # добавляем столбец с метками класса по id тренировочного наблюдения\n",
    "    train_target = []\n",
    "    for i in k_near_Neighbors['j_train']:\n",
    "        train_target.append(y_train[i]) \n",
    "\n",
    "    k_near_Neighbors['train_tar'] = train_target\n",
    "    \n",
    "    # присваиваем тестовому экземпляру класс тренировочных наблюдений, которые чаще оказываются близко к нему\n",
    "    tar_count = k_near_Neighbors.groupby(['i_test', 'train_tar']).size().reset_index(name='counts')\n",
    "    tar_count = tar_count.sort_values(by='counts', ascending = False)\n",
    "    res = tar_count.groupby('i_test').head(1).sort_values('i_test')\n",
    "    \n",
    "    \n",
    "    # добавляем столбец с исходными метками по тестовым наблюдениям\n",
    "    res['fin_tar'] = y_test\n",
    "    \n",
    "    # рассчитываем качество классификатора\n",
    "    res['score'] = np.where(res['train_tar']==res['fin_tar'], 1, 0)\n",
    "    return (float(res['score'].sum())/res.shape[0])*100.0"
   ]
  },
  {
   "cell_type": "code",
   "execution_count": 117,
   "metadata": {},
   "outputs": [
    {
     "name": "stdout",
     "output_type": "stream",
     "text": [
      "Wall time: 116 ms\n"
     ]
    },
    {
     "name": "stderr",
     "output_type": "stream",
     "text": [
      "C:\\Users\\admin\\Anaconda2\\lib\\site-packages\\ipykernel_launcher.py:26: SettingWithCopyWarning: \n",
      "A value is trying to be set on a copy of a slice from a DataFrame.\n",
      "Try using .loc[row_indexer,col_indexer] = value instead\n",
      "\n",
      "See the caveats in the documentation: http://pandas.pydata.org/pandas-docs/stable/indexing.html#indexing-view-versus-copy\n"
     ]
    },
    {
     "data": {
      "text/plain": [
       "97.77777777777777"
      ]
     },
     "execution_count": 117,
     "metadata": {},
     "output_type": "execute_result"
    }
   ],
   "source": [
    "%%time\n",
    "knn_er(X_train, X_test, y_train, y_test, k = 3)"
   ]
  },
  {
   "cell_type": "code",
   "execution_count": null,
   "metadata": {
    "collapsed": true
   },
   "outputs": [],
   "source": []
  }
 ],
 "metadata": {
  "kernelspec": {
   "display_name": "Python 2",
   "language": "python",
   "name": "python2"
  },
  "language_info": {
   "codemirror_mode": {
    "name": "ipython",
    "version": 2
   },
   "file_extension": ".py",
   "mimetype": "text/x-python",
   "name": "python",
   "nbconvert_exporter": "python",
   "pygments_lexer": "ipython2",
   "version": "2.7.13"
  }
 },
 "nbformat": 4,
 "nbformat_minor": 2
}
